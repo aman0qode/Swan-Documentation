import pandas as pd
import numpy as np
import datetime
from tqdm.notebook import trange, tqdm
import matplotlib.pyplot as plt

pd.set_option('display.max_rows', 50)
pd.set_option('display.max_columns', 50)
pd.set_option('display.width', 100)
# read equity file
equity_df = pd.read_csv('Trend Analysis.csv')
# read futures file
df = pd.read_csv("1.csv")
#df = pd.read_excel("1.xlsx")
#df_excel
df.shape
df = df.rename(columns={'Date/Time' : 'Date'})
df['Date'] = df['Date'].str[:10]
startDate = '01-01-2021' 
endDate = '31-12-2021'
startDate = datetime.datetime.strptime(startDate, '%d-%m-%Y')
endDate = datetime.datetime.strptime(endDate, '%d-%m-%Y')

gap = 3
timestamp = '112500chg'

# 6, 7, 8, 9
cellNumber =  9

# choose which cell to run
from IPython.display import Javascript
Javascript('Jupyter.notebook.execute_cells([{0}])'.format(cellNumber)) 
# remove 'Unnamed' columns from csv
remove_cols = [col for col in df.columns if 'Unnamed' in col]
df.drop(remove_cols, axis='columns', inplace=True)

# change date format to datetime
df['Date'] =  pd.to_datetime(df['Date'], format='%d-%m-%Y')

# filter date range
df1 = df[(df['Date'] >= startDate) & (df['Date'] <= endDate)]

# remove % symbol from column values
df1 = df1.replace('%', '', regex=True)

# convert column values to numeric
df1.loc[:, ~df1.columns.isin(['Ticker', 'Date'])] = df1.loc[:, ~df1.columns.isin(['Ticker', 'Date'])].apply(pd.to_numeric)

# create dictionary to store column names according to their index
my_dict = dict() 
for index,value in enumerate(df1.columns):
    my_dict[index] = value

val_list = list(my_dict.values())

# filter rows according to the gap
if gap > 0:
    df2 = df1[(df1[my_dict[val_list.index(timestamp) - 1]] >= gap)]
elif gap < 0:
    df2 = df1[(df1[my_dict[val_list.index(timestamp) - 1]] <= gap)]
    
# select columns for plotting the graph
df3 = df2.loc[:, timestamp: '100000chgnxt']

# calculate mean of all the required timestamps 
x = df3.mean().index
y = df3.mean().values
# print(x, y, len(x), len(y))

# graph plot
f = plt.figure()
f.set_figwidth(15)
f.set_figheight(10)

plt.plot(x, y)
plt.xticks(rotation=90)
startDate = datetime.datetime.strptime(str(startDate)[:10], "%Y-%m-%d").strftime("%d-%m-%Y")
endDate = datetime.datetime.strptime(str(endDate)[:10], "%Y-%m-%d").strftime("%d-%m-%Y")
plt.title('Cell 5 Graph : ' + startDate + ' to ' + endDate)
plt.grid()
plt.show()
# remove 'Unnamed' columns from csv
remove_cols = [col for col in df.columns if 'Unnamed' in col]
df.drop(remove_cols, axis='columns', inplace=True)

# change date format
df['Date'] =  pd.to_datetime(df['Date'], format='%d-%m-%Y')

# select date range
df1 = df[(df['Date'] >= startDate) & (df['Date'] <= endDate)]

# remove % symbol from values
df1 = df1.replace('%', '', regex=True)

# convert values to numeric
df1.loc[:, ~df1.columns.isin(['Ticker', 'Date'])] = df1.loc[:, ~df1.columns.isin(['Ticker', 'Date'])].apply(pd.to_numeric)

my_dict = dict() 
for index,value in enumerate(df1.columns):
    my_dict[index] = value

val_list = list(my_dict.values())

# select gap
if gap > 0:
    df2 = df1[(df1[my_dict[val_list.index(timestamp) - 1]] >= gap)]
elif gap < 0:
    df2 = df1[(df1[my_dict[val_list.index(timestamp) - 1]] <= gap)]

# select columns for plotting 
df3 = df2.loc[:, timestamp: '100000chgnxt']

x = df3.mean().index
y = df3.mean().values
# print(x, y, len(x), len(y))

f = plt.figure()
f.set_figwidth(15)
f.set_figheight(10)

# graph plot
plt.plot(x, y, 'k')
plt.xticks(rotation=90)
startDate = datetime.datetime.strptime(str(startDate)[:10], "%Y-%m-%d").strftime("%d-%m-%Y")
endDate = datetime.datetime.strptime(str(endDate)[:10], "%Y-%m-%d").strftime("%d-%m-%Y")
plt.title('Cell 7 Graph : ' + startDate + ' to ' + endDate)
plt.grid()
plt.show()
# remove 'Unnamed' columns from csv
remove_cols = [col for col in equity_df.columns if 'Unnamed' in col]
equity_df.drop(remove_cols, axis='columns', inplace=True)


# change date format
equity_df['Date'] =  pd.to_datetime(equity_df['Date'], format='%d-%m-%Y')

# select date range
equity_df1 = equity_df[(equity_df['Date'] >= startDate) & (equity_df['Date'] <= endDate)]

# remove % symbol from values
equity_df1 = equity_df1.replace('%', '', regex=True)

# convert values to numeric
equity_df1.loc[:, ~equity_df1.columns.isin(['Ticker', 'Date'])] = equity_df1.loc[:, ~equity_df1.columns.isin(['Ticker', 'Date'])].apply(pd.to_numeric)

my_dict = dict() 
for index,value in enumerate(equity_df1.columns):
    my_dict[index] = value

val_list = list(my_dict.values())

# select gap
if gap > 0:
    equity_df2 = equity_df1[(equity_df1[my_dict[val_list.index(timestamp) - 1]] >= gap)]
elif gap < 0:
    equity_df2 = equity_df1[(equity_df1[my_dict[val_list.index(timestamp) - 1]] <= gap)]

# select columns for plotting 
equity_df3 = equity_df2.loc[:, timestamp: '100000chgnxt']

x = equity_df3.mean().index
y = equity_df3.mean().values
# print(x, y, len(x), len(y))

f = plt.figure()
f.set_figwidth(15)
f.set_figheight(10)

# graph plot
plt.plot(x, y, 'r')
plt.xticks(rotation=90)
startDate = datetime.datetime.strptime(str(startDate)[:10], "%Y-%m-%d").strftime("%d-%m-%Y")
endDate = datetime.datetime.strptime(str(endDate)[:10], "%Y-%m-%d").strftime("%d-%m-%Y")
plt.title('Cell 8 Graph : ' + startDate + ' to ' + endDate)
plt.grid()
plt.show()
# remove 'Unnamed' columns from csv
remove_cols = [col for col in equity_df.columns if 'Unnamed' in col]
equity_df.drop(remove_cols, axis='columns', inplace=True)


# change date format
equity_df['Date'] =  pd.to_datetime(equity_df['Date'], format='%d-%m-%Y')

# select date range
equity_df1 = equity_df[(equity_df['Date'] >= startDate) & (equity_df['Date'] <= endDate)]

# remove % symbol from values
equity_df1 = equity_df1.replace('%', '', regex=True)

# convert values to numeric
equity_df1.loc[:, ~equity_df1.columns.isin(['Ticker', 'Date'])] = equity_df1.loc[:, ~equity_df1.columns.isin(['Ticker', 'Date'])].apply(pd.to_numeric)

my_dict = dict() 
for index,value in enumerate(equity_df1.columns):
    my_dict[index] = value

val_list = list(my_dict.values())

# select gap
if gap > 0:
    equity_df2 = equity_df1[(equity_df1[my_dict[val_list.index(timestamp) - 1]] >= gap)]
elif gap < 0:
    equity_df2 = equity_df1[(equity_df1[my_dict[val_list.index(timestamp) - 1]] <= gap)]

# select columns for plotting 
equity_df3 = equity_df2.loc[:, timestamp: '100000chgnxt']

x = equity_df3.mean().index
y = equity_df3.mean().values
# print(x, y, len(x), len(y))

f = plt.figure()
f.set_figwidth(15)
f.set_figheight(10)

# graph plot
plt.plot(x, y, 'r')
plt.xticks(rotation=90)
startDate = datetime.datetime.strptime(str(startDate)[:10], "%Y-%m-%d").strftime("%d-%m-%Y")
endDate = datetime.datetime.strptime(str(endDate)[:10], "%Y-%m-%d").strftime("%d-%m-%Y")
plt.title('Cell 9 Graph : ' + startDate + ' to ' + endDate)
plt.grid()
plt.show()

print(y)
